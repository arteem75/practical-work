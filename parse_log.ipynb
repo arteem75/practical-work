{
 "cells": [
  {
   "cell_type": "code",
   "execution_count": null,
   "id": "af6c389c",
   "metadata": {},
   "outputs": [],
   "source": [
    "import matplotlib.pyplot as plt\n",
    "import pandas as pd\n",
    "from collections import defaultdict\n",
    "import re\n",
    "import os\n",
    "from pathlib import Path"
   ]
  },
  {
   "cell_type": "code",
   "execution_count": 2,
   "id": "7cad9c0c",
   "metadata": {},
   "outputs": [],
   "source": [
    "\n",
    "def parse_log_file(path):\n",
    "    iteration_pattern = re.compile(r'ITERATION\\s+(\\d+)\\b')\n",
    "    method_completion_pattern = re.compile(r'Method\\s+([^\\s]+)\\s+completed\\s+in\\s+([\\d.]+)\\s+seconds')\n",
    "    test_script_pattern = re.compile(r'Test script invocation completed in\\s+([\\d.]+)\\s+seconds')\n",
    "    total_time_pattern = re.compile(r'Execution time:\\s*([\\d.]+)\\s+seconds')  # if present\n",
    "    \n",
    "    data = {}  # iteration -> method -> {'count': int, 'time': float}\n",
    "    current_iter = None\n",
    "\n",
    "    with open(path, 'r', encoding='utf-8', errors='ignore') as f:\n",
    "        for line in f:\n",
    "            # detect iteration header\n",
    "            m_iter = iteration_pattern.search(line)\n",
    "            if m_iter:\n",
    "                current_iter = int(m_iter.group(1))\n",
    "                if current_iter not in data:\n",
    "                    data[current_iter] = defaultdict(lambda: {'count': 0, 'time': 0.0})\n",
    "                continue\n",
    "            if current_iter is None:\n",
    "                continue  # skip before any iteration found\n",
    "\n",
    "            m_method = method_completion_pattern.search(line)\n",
    "            if m_method:\n",
    "                name = m_method.group(1)\n",
    "                t = float(m_method.group(2))\n",
    "                entry = data[current_iter][name]\n",
    "                entry['count'] += 1\n",
    "                entry['time'] += t\n",
    "                continue\n",
    "            m_test = test_script_pattern.search(line)\n",
    "            if m_test:\n",
    "                t = float(m_test.group(1))\n",
    "                entry = data[current_iter]['test_script']\n",
    "                entry['count'] += 1\n",
    "                entry['time'] += t\n",
    "                continue\n",
    "            # optionally capture other total times if present\n",
    "            m_total = total_time_pattern.search(line)\n",
    "            if m_total:\n",
    "                entry = data[current_iter]['total_execution']\n",
    "                entry['count'] += 1\n",
    "                entry['time'] += float(m_total.group(1))\n",
    "    return data\n",
    "\n",
    "def print_summary(data):\n",
    "    for iteration in sorted(data):\n",
    "        print(f\"\\n=== ITERATION {iteration} ===\")\n",
    "        methods = data[iteration]\n",
    "        total_time = sum(v['time'] for v in methods.values())\n",
    "        print(f\"Aggregate time (sum of all recorded method/test times): {total_time:.6f} seconds\")\n",
    "        for method, info in sorted(methods.items(), key=lambda x: (-x[1]['time'], x[0])):\n",
    "            print(f\"- {method}: count={info['count']}, time={info['time']:.6f}\")\n",
    "            \n",
    "\n"
   ]
  },
  {
   "cell_type": "code",
   "execution_count": 3,
   "id": "cb2ebe13",
   "metadata": {},
   "outputs": [],
   "source": [
    "def plot_pie(data, iteration):\n",
    "    methods = data[iteration]\n",
    "    df = pd.DataFrame([\n",
    "        {'method': k, 'count': v['count'], 'time': v['time']}\n",
    "        for k, v in methods.items() if v['time'] > 0\n",
    "    ])\n",
    "    if df.empty:\n",
    "        print(f\"Skipping iteration {iteration} (no data).\")\n",
    "        return\n",
    "\n",
    "    # Plot\n",
    "    plt.figure(figsize=(8, 8))\n",
    "    plt.pie(df['time'], labels=df['method'], autopct='%1.1f%%', startangle=140)\n",
    "    plt.title(f'Iteration {iteration} - Time Distribution')\n",
    "    plt.tight_layout()\n",
    "    plt.show()\n"
   ]
  },
  {
   "cell_type": "code",
   "execution_count": 4,
   "id": "2af87836",
   "metadata": {},
   "outputs": [],
   "source": [
    "path = '/Users/artemancikov/Desktop/practical-work-new/full_remove_output.log'\n"
   ]
  },
  {
   "cell_type": "code",
   "execution_count": 5,
   "id": "bf97560e",
   "metadata": {},
   "outputs": [],
   "source": [
    "def clean_data(data):\n",
    "    for iteration in data:\n",
    "        methods = data[iteration]\n",
    "        keys_to_remove = [k for k in methods if k.startswith(\"remove_nodes\") or k == \"total_execution\"]\n",
    "        for k in keys_to_remove:\n",
    "            del methods[k]\n"
   ]
  },
  {
   "cell_type": "code",
   "execution_count": 6,
   "id": "a85b086d",
   "metadata": {},
   "outputs": [],
   "source": [
    "def plot_bar(data, iteration):\n",
    "    methods = data[iteration]\n",
    "    df = pd.DataFrame([\n",
    "        {'method': k, 'count': v['count'], 'time': v['time']}\n",
    "        for k, v in methods.items() if v['time'] > 0\n",
    "    ])\n",
    "    if df.empty:\n",
    "        print(f\"Skipping iteration {iteration} (no data).\")\n",
    "        return\n",
    "\n",
    "    df = df.sort_values(by='time', ascending=False)\n",
    "\n",
    "    plt.figure(figsize=(10, max(4, len(df) * 0.4)))\n",
    "    plt.barh(df['method'], df['time'])\n",
    "    plt.xlabel(\"Total Time (s)\")\n",
    "    plt.title(f\"Iteration {iteration} - Time by Method\")\n",
    "    plt.gca().invert_yaxis()  # most time on top\n",
    "    plt.tight_layout()\n",
    "    plt.show()\n"
   ]
  },
  {
   "cell_type": "code",
   "execution_count": 7,
   "id": "2c66afe8",
   "metadata": {},
   "outputs": [],
   "source": [
    "def plot_all_iterations(data):\n",
    "    for iteration in sorted(data.keys()):\n",
    "        plot_bar(data, iteration)\n"
   ]
  },
  {
   "cell_type": "code",
   "execution_count": 8,
   "id": "1250235d",
   "metadata": {},
   "outputs": [],
   "source": [
    "data = parse_log_file(path)\n",
    "clean_data(data)\n",
    "\n",
    "#print_summary(data)\n",
    "#plot_all_iterations(data)"
   ]
  },
  {
   "cell_type": "code",
   "execution_count": 9,
   "id": "10fb7137",
   "metadata": {},
   "outputs": [],
   "source": [
    "def plot_total_time_across_iterations(data):\n",
    "    # Aggregate time per method across all iterations\n",
    "    aggregate = defaultdict(float)\n",
    "    for methods in data.values():\n",
    "        for method, stats in methods.items():\n",
    "            aggregate[method] += stats['time']\n",
    "\n",
    "    if not aggregate:\n",
    "        print(\"No data to plot.\")\n",
    "        return\n",
    "\n",
    "    df = pd.DataFrame([\n",
    "        {'method': k, 'time': v}\n",
    "        for k, v in aggregate.items() if v > 0\n",
    "    ])\n",
    "    df = df.sort_values(by='time', ascending=False)\n",
    "\n",
    "    plt.figure(figsize=(10, max(4, len(df) * 0.4)))\n",
    "    plt.barh(df['method'], df['time'])\n",
    "    plt.xlabel(\"Total Time (s)\")\n",
    "    plt.title(\"Total Time per Method (All Iterations)\")\n",
    "    plt.gca().invert_yaxis()\n",
    "    plt.tight_layout()\n",
    "    plt.show()\n"
   ]
  },
  {
   "cell_type": "code",
   "execution_count": 10,
   "id": "a8d74e8a",
   "metadata": {},
   "outputs": [
    {
     "data": {
      "image/png": "[encoded data removed]",
      "text/plain": [
       "<Figure size 1000x400 with 1 Axes>"
      ]
     },
     "metadata": {},
     "output_type": "display_data"
    }
   ],
   "source": [
    "plot_total_time_across_iterations(data)\n"
   ]
  },
  {
   "cell_type": "code",
   "execution_count": 11,
   "id": "3adcc42a",
   "metadata": {},
   "outputs": [],
   "source": [
    "def print_total_time_percentages(data):\n",
    "    # Aggregate total time per method\n",
    "    total_by_method = defaultdict(float)\n",
    "    total_all = 0.0\n",
    "\n",
    "    for methods in data.values():\n",
    "        for method, stats in methods.items():\n",
    "            total_by_method[method] += stats['time']\n",
    "            total_all += stats['time']\n",
    "\n",
    "    if total_all == 0:\n",
    "        print(\"No time data found.\")\n",
    "        return\n",
    "\n",
    "    print(\"\\n=== Total Time Percentage per Method ===\")\n",
    "    for method, time in sorted(total_by_method.items(), key=lambda x: -x[1]):\n",
    "        percent = (time / total_all) * 100\n",
    "        print(f\"{method:30} {time:10.6f} sec  ({percent:5.2f}%)\")\n"
   ]
  },
  {
   "cell_type": "code",
   "execution_count": 12,
   "id": "8b0564a8",
   "metadata": {},
   "outputs": [
    {
     "name": "stdout",
     "output_type": "stream",
     "text": [
      "\n",
      "=== Total Time Percentage per Method ===\n",
      "test_script                    956.281328 sec  (92.17%)\n",
      "remove_local_variable           50.416321 sec  ( 4.86%)\n",
      "remove_function                 16.985464 sec  ( 1.64%)\n",
      "remove_field                     8.102562 sec  ( 0.78%)\n",
      "remove_class                     3.018545 sec  ( 0.29%)\n",
      "break_inheritance                2.288024 sec  ( 0.22%)\n",
      "remove_constructor               0.375899 sec  ( 0.04%)\n"
     ]
    }
   ],
   "source": [
    "print_total_time_percentages(data)\n"
   ]
  },
  {
   "cell_type": "code",
   "execution_count": 13,
   "id": "f2bbb630",
   "metadata": {},
   "outputs": [
    {
     "data": {
      "image/png": "[encoded data removed]",
      "text/plain": [
       "<Figure size 1200x600 with 1 Axes>"
      ]
     },
     "metadata": {},
     "output_type": "display_data"
    }
   ],
   "source": [
    "def plot_total_time_percentages_bar(data):\n",
    "    # Aggregate total time per method\n",
    "    total_by_method = defaultdict(float)\n",
    "    total_all = 0.0\n",
    "\n",
    "    for methods in data.values():\n",
    "        for method, stats in methods.items():\n",
    "            total_by_method[method] += stats['time']\n",
    "            total_all += stats['time']\n",
    "\n",
    "    if total_all == 0:\n",
    "        print(\"No time data found.\")\n",
    "        return\n",
    "\n",
    "    # Create DataFrame and sort by time\n",
    "    df = pd.DataFrame([\n",
    "        {'method': method, 'time': time, 'percentage': (time / total_all) * 100}\n",
    "        for method, time in total_by_method.items()\n",
    "    ])\n",
    "    df = df.sort_values(by='percentage', ascending=False)\n",
    "\n",
    "    # Create bar plot\n",
    "    plt.figure(figsize=(12, max(6, len(df) * 0.5)))\n",
    "    bars = plt.barh(df['method'], df['percentage'])\n",
    "    \n",
    "    # Add percentage labels on bars\n",
    "    for i, (bar, percentage) in enumerate(zip(bars, df['percentage'])):\n",
    "        plt.text(bar.get_width() + 0.5, bar.get_y() + bar.get_height()/2, \n",
    "                f'{percentage:.1f}%', va='center', ha='left')\n",
    "    \n",
    "    plt.xlabel(\"Percentage of Total Time (%)\")\n",
    "    plt.title(\"Time Distribution by Method (All Iterations)\")\n",
    "    plt.gca().invert_yaxis()  # highest percentage on top\n",
    "    plt.xlim(0, df['percentage'].max() * 1.15)  # add space for labels\n",
    "    plt.tight_layout()\n",
    "    plt.show()\n",
    "\n",
    "# Call the function\n",
    "plot_total_time_percentages_bar(data)"
   ]
  },
  {
   "cell_type": "code",
   "execution_count": null,
   "id": "c4e879c9",
   "metadata": {},
   "outputs": [],
   "source": []
  },
  {
   "cell_type": "code",
   "execution_count": 15,
   "id": "81b41d69",
   "metadata": {},
   "outputs": [
    {
     "name": "stdout",
     "output_type": "stream",
     "text": [
      "Created /Users/artemancikov/Desktop/practical-work-new/reducer/generator_source2/iter_1/run.sh with expected_error: 'cannot find symbol'\n",
      "Created /Users/artemancikov/Desktop/practical-work-new/reducer/generator_source2/iter_10/run.sh with expected_error: 'cannot find symbol'\n",
      "Created /Users/artemancikov/Desktop/practical-work-new/reducer/generator_source2/iter_2/run.sh with expected_error: 'cannot find symbol'\n",
      "Created /Users/artemancikov/Desktop/practical-work-new/reducer/generator_source2/iter_3/run.sh with expected_error: 'cannot find symbol'\n",
      "Created /Users/artemancikov/Desktop/practical-work-new/reducer/generator_source2/iter_4/run.sh with expected_error: 'cannot find symbol'\n",
      "Created /Users/artemancikov/Desktop/practical-work-new/reducer/generator_source2/iter_5/run.sh with expected_error: 'cannot find symbol'\n",
      "Created /Users/artemancikov/Desktop/practical-work-new/reducer/generator_source2/iter_6/run.sh with expected_error: 'cannot find symbol'\n",
      "Created /Users/artemancikov/Desktop/practical-work-new/reducer/generator_source2/iter_7/run.sh with expected_error: 'cannot find symbol'\n",
      "Created /Users/artemancikov/Desktop/practical-work-new/reducer/generator_source2/iter_8/run.sh with expected_error: 'cannot find symbol'\n",
      "Created /Users/artemancikov/Desktop/practical-work-new/reducer/generator_source2/iter_9/run.sh with expected_error: 'cannot find symbol'\n"
     ]
    }
   ],
   "source": [
    "import os\n",
    "from pathlib import Path\n",
    "\n",
    "def create_run_scripts():\n",
    "    # Base directory\n",
    "    base_dir = Path(\"/Users/artemancikov/Desktop/practical-work-new/reducer/generator_source2\")\n",
    "    \n",
    "    # Template for run.sh\n",
    "    template = '''#!/bin/bash\n",
    "start_time=$(date +%s)\n",
    "\n",
    "source_file=$(find . -maxdepth 1 -name \"*.java\" | head -n 1)\n",
    "expected_error=\"{expected_error}\"\n",
    "expected_count=1\n",
    "\n",
    "if [ ! -f \"$source_file\" ]; then\n",
    "    echo \"Error: Could not find Java file in working directory.\"\n",
    "    exit 1\n",
    "fi\n",
    "\n",
    "javac \"$source_file\" 2> compile_err.txt\n",
    "count=$(grep -o \"$expected_error\" compile_err.txt | wc -l | xargs)\n",
    "total_errors=$(grep -c \"error:\" compile_err.txt)\n",
    "\n",
    "if [ \"$count\" -eq \"$expected_count\" ] && [ \"$total_errors\" -eq \"$expected_count\" ]; then\n",
    "    exit 0\n",
    "else\n",
    "    exit 1\n",
    "fi\n",
    "'''\n",
    "\n",
    "    # Find all directories starting with \"iter_\"\n",
    "    iter_dirs = [d for d in base_dir.iterdir() if d.is_dir() and d.name.startswith(\"iter_\")]\n",
    "    \n",
    "    for iter_dir in sorted(iter_dirs):\n",
    "        # Read the expected_error from error.txt if it exists\n",
    "        error_file = iter_dir / \"error.txt\"\n",
    "        if error_file.exists():\n",
    "            with open(error_file, 'r') as f:\n",
    "                expected_error = f.read().strip()\n",
    "        else:\n",
    "            # Default error if error.txt doesn't exist\n",
    "            expected_error = \"cannot find symbol\"\n",
    "        \n",
    "        # Create run.sh content with the expected error\n",
    "        run_sh_content = template.format(expected_error=expected_error)\n",
    "        \n",
    "        # Write run.sh file\n",
    "        run_sh_path = iter_dir / \"run.sh\"\n",
    "        with open(run_sh_path, 'w') as f:\n",
    "            f.write(run_sh_content)\n",
    "        \n",
    "        # Make the script executable\n",
    "        os.chmod(run_sh_path, 0o755)\n",
    "        \n",
    "        print(f\"Created {run_sh_path} with expected_error: '{expected_error}'\")\n",
    "\n",
    "# Run the function\n",
    "create_run_scripts()"
   ]
  }
 ],
 "metadata": {
  "kernelspec": {
   "display_name": "practical-work",
   "language": "python",
   "name": "python3"
  },
  "language_info": {
   "codemirror_mode": {
    "name": "ipython",
    "version": 3
   },
   "file_extension": ".py",
   "mimetype": "text/x-python",
   "name": "python",
   "nbconvert_exporter": "python",
   "pygments_lexer": "ipython3",
   "version": "3.13.2"
  }
 },
 "nbformat": 4,
 "nbformat_minor": 5
}
